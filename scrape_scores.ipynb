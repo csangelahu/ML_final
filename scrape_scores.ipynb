{
 "cells": [
  {
   "cell_type": "code",
   "execution_count": 1,
   "metadata": {},
   "outputs": [],
   "source": [
    "import os\n",
    "\n",
    "from selenium import webdriver\n",
    "from selenium.webdriver.common.by import By\n",
    "from bs4 import BeautifulSoup\n",
    "\n",
    "from selenium.webdriver.support.ui import WebDriverWait\n",
    "from selenium.webdriver.support import expected_conditions as EC\n",
    "\n",
    "import time\n",
    "\n",
    "import re\n",
    "\n",
    "from datetime import datetime\n",
    "\n",
    "SEASONS = list(range(2008,2024))\n",
    "\n",
    "DATA_DIR = \"data\"\n",
    "STANDINGS_DIR = os.path.join(DATA_DIR, \"standings\")\n",
    "SCORES_DIR = os.path.join(DATA_DIR, \"scores\")"
   ]
  },
  {
   "cell_type": "code",
   "execution_count": 16,
   "metadata": {},
   "outputs": [],
   "source": [
    "driver = webdriver.Firefox()\n",
    "\n",
    "for season in SEASONS[-1:]:\n",
    "\n",
    "    driver.get(f\"https://www.basketball-reference.com/leagues/NBA_{season}_games.html\")\n",
    "\n",
    "    WebDriverWait(driver, 10).until(\n",
    "            lambda driver: driver.execute_script(\"return document.readyState\") == \"complete\"\n",
    "    )\n",
    "\n",
    "    parsed = BeautifulSoup(driver.page_source)\n",
    "\n",
    "    standings = [x[\"href\"] for x in parsed.find(\"div\", attrs={\"class\": \"filter\"}).find_all(\"a\")]\n",
    "\n",
    "    for standing in standings:\n",
    "        url = f\"https://www.basketball-reference.com\" + standing\n",
    "\n",
    "        save_path = os.path.join(STANDINGS_DIR, url.split(\"/\")[-1])\n",
    "        if os.path.exists(save_path):\n",
    "            continue\n",
    "\n",
    "        driver.get(url)\n",
    "\n",
    "        WebDriverWait(driver, 10).until(\n",
    "                lambda driver: driver.execute_script(\"return document.readyState\") == \"complete\"\n",
    "        )\n",
    "\n",
    "        parsed = BeautifulSoup(driver.page_source)\n",
    "\n",
    "        schedule = parsed.find(\"div\", attrs={\"id\":\"all_schedule\"})\n",
    "\n",
    "        with open(save_path, \"w+\") as f:\n",
    "             f.write(str(schedule))"
   ]
  },
  {
   "cell_type": "code",
   "execution_count": 2,
   "metadata": {},
   "outputs": [],
   "source": [
    "standings_files = os.listdir(STANDINGS_DIR)"
   ]
  },
  {
   "cell_type": "code",
   "execution_count": 3,
   "metadata": {},
   "outputs": [],
   "source": [
    "driver = webdriver.Firefox()"
   ]
  },
  {
   "cell_type": "code",
   "execution_count": 9,
   "metadata": {},
   "outputs": [],
   "source": [
    "for season in SEASONS:\n",
    "    files = [s for s in standings_files if str(season) in s]\n",
    "    \n",
    "    for f in files:\n",
    "        with open(os.path.join(STANDINGS_DIR, f), 'r') as f:\n",
    "            html = f.read()\n",
    "\n",
    "        soup = BeautifulSoup(html)\n",
    "        links = soup.find_all(\"a\")\n",
    "        hrefs = [l.get('href') for l in links]\n",
    "        \n",
    "        box_scores = [f\"https://www.basketball-reference.com{l}\" for l in hrefs if l and \"boxscore\" in l and '.html' in l]\n",
    "\n",
    "        for url in box_scores:\n",
    "            save_path = os.path.join(SCORES_DIR, url.split(\"/\")[-1])\n",
    "            if os.path.exists(save_path):\n",
    "                continue\n",
    "\n",
    "            driver.get(url)\n",
    "\n",
    "            WebDriverWait(driver, 10).until(\n",
    "                    lambda driver: driver.execute_script(\"return document.readyState\") == \"complete\"\n",
    "            )\n",
    "\n",
    "            parsed = BeautifulSoup(driver.page_source)\n",
    "\n",
    "            with open(save_path, \"w+\") as f:\n",
    "                f.write(str(parsed))\n",
    "\n",
    "            time.sleep(3)"
   ]
  },
  {
   "cell_type": "code",
   "execution_count": null,
   "metadata": {},
   "outputs": [],
   "source": []
  }
 ],
 "metadata": {
  "kernelspec": {
   "display_name": "mlfinal",
   "language": "python",
   "name": "python3"
  },
  "language_info": {
   "codemirror_mode": {
    "name": "ipython",
    "version": 3
   },
   "file_extension": ".py",
   "mimetype": "text/x-python",
   "name": "python",
   "nbconvert_exporter": "python",
   "pygments_lexer": "ipython3",
   "version": "3.10.16"
  }
 },
 "nbformat": 4,
 "nbformat_minor": 2
}
