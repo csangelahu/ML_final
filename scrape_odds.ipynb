{
 "cells": [
  {
   "cell_type": "code",
   "execution_count": 54,
   "metadata": {},
   "outputs": [],
   "source": [
    "from selenium import webdriver\n",
    "from selenium.webdriver.common.by import By\n",
    "from bs4 import BeautifulSoup\n",
    "\n",
    "from selenium.webdriver.support.ui import WebDriverWait\n",
    "from selenium.webdriver.support import expected_conditions as EC\n",
    "\n",
    "import time\n",
    "\n",
    "import re\n",
    "\n",
    "from datetime import datetime"
   ]
  },
  {
   "cell_type": "code",
   "execution_count": 2,
   "metadata": {},
   "outputs": [],
   "source": [
    "driver = webdriver.Firefox()\n"
   ]
  },
  {
   "cell_type": "code",
   "execution_count": 3,
   "metadata": {},
   "outputs": [],
   "source": [
    "urls = [f\"https://www.oddsportal.com/basketball/usa/nba-{x}-{x+1}/results/\" for x in range(2008, 2025)]\n",
    "urls_shortened = [f\"/basketball/usa/nba-{x}-{x+1}/\" for x in range(2008, 2025)]"
   ]
  },
  {
   "cell_type": "code",
   "execution_count": 4,
   "metadata": {},
   "outputs": [],
   "source": [
    "total_game_urls = []"
   ]
  },
  {
   "cell_type": "code",
   "execution_count": 8,
   "metadata": {},
   "outputs": [
    {
     "name": "stdout",
     "output_type": "stream",
     "text": [
      "timeout\n",
      "timeout\n",
      "timeout\n",
      "timeout\n"
     ]
    },
    {
     "ename": "AttributeError",
     "evalue": "'NoneType' object has no attribute 'find_all'",
     "output_type": "error",
     "traceback": [
      "\u001b[0;31m---------------------------------------------------------------------------\u001b[0m",
      "\u001b[0;31mAttributeError\u001b[0m                            Traceback (most recent call last)",
      "Cell \u001b[0;32mIn[8], line 23\u001b[0m\n\u001b[1;32m     19\u001b[0m parsed \u001b[38;5;241m=\u001b[39m BeautifulSoup(driver\u001b[38;5;241m.\u001b[39mpage_source)\n\u001b[1;32m     21\u001b[0m pagination \u001b[38;5;241m=\u001b[39m parsed\u001b[38;5;241m.\u001b[39mfind(\u001b[38;5;124m\"\u001b[39m\u001b[38;5;124mdiv\u001b[39m\u001b[38;5;124m\"\u001b[39m, attrs\u001b[38;5;241m=\u001b[39m{\u001b[38;5;124m\"\u001b[39m\u001b[38;5;124mclass\u001b[39m\u001b[38;5;124m\"\u001b[39m: \u001b[38;5;124m\"\u001b[39m\u001b[38;5;124mpagination\u001b[39m\u001b[38;5;124m\"\u001b[39m})\n\u001b[0;32m---> 23\u001b[0m total_pages \u001b[38;5;241m=\u001b[39m \u001b[38;5;28mint\u001b[39m(\u001b[43mpagination\u001b[49m\u001b[38;5;241;43m.\u001b[39;49m\u001b[43mfind_all\u001b[49m(\u001b[38;5;124m\"\u001b[39m\u001b[38;5;124ma\u001b[39m\u001b[38;5;124m\"\u001b[39m)[\u001b[38;5;241m-\u001b[39m\u001b[38;5;241m2\u001b[39m][\u001b[38;5;124m\"\u001b[39m\u001b[38;5;124mdata-number\u001b[39m\u001b[38;5;124m\"\u001b[39m])\n\u001b[1;32m     25\u001b[0m games \u001b[38;5;241m=\u001b[39m parsed\u001b[38;5;241m.\u001b[39mfind_all(\u001b[38;5;124m\"\u001b[39m\u001b[38;5;124mdiv\u001b[39m\u001b[38;5;124m\"\u001b[39m, attrs\u001b[38;5;241m=\u001b[39m{\u001b[38;5;124m\"\u001b[39m\u001b[38;5;124mclass\u001b[39m\u001b[38;5;124m\"\u001b[39m : \u001b[38;5;124m\"\u001b[39m\u001b[38;5;124meventRow\u001b[39m\u001b[38;5;124m\"\u001b[39m})\n\u001b[1;32m     27\u001b[0m total_game_urls\u001b[38;5;241m.\u001b[39mextend([x\u001b[38;5;241m.\u001b[39mfind(\u001b[38;5;124m\"\u001b[39m\u001b[38;5;124ma\u001b[39m\u001b[38;5;124m\"\u001b[39m, attrs\u001b[38;5;241m=\u001b[39m{\u001b[38;5;124m\"\u001b[39m\u001b[38;5;124mhref\u001b[39m\u001b[38;5;124m\"\u001b[39m: re\u001b[38;5;241m.\u001b[39mcompile(url_shortened)})[\u001b[38;5;124m\"\u001b[39m\u001b[38;5;124mhref\u001b[39m\u001b[38;5;124m\"\u001b[39m] \u001b[38;5;28;01mfor\u001b[39;00m x \u001b[38;5;129;01min\u001b[39;00m games][\u001b[38;5;241m1\u001b[39m:])\n",
      "\u001b[0;31mAttributeError\u001b[0m: 'NoneType' object has no attribute 'find_all'"
     ]
    }
   ],
   "source": [
    "for url, url_shortened in zip(urls[-4:], urls_shortened[-4:]):\n",
    "    driver.get(url)\n",
    "\n",
    "    WebDriverWait(driver, 10).until(\n",
    "            lambda driver: driver.execute_script(\"return document.readyState\") == \"complete\"\n",
    "    )\n",
    "\n",
    "    try:\n",
    "\n",
    "        wait = WebDriverWait(driver, 5)\n",
    "        link = wait.until(EC.element_to_be_clickable((By.ID, \"onetrust-reject-all-handler\")))\n",
    "\n",
    "        link.click()\n",
    "    \n",
    "    except: \n",
    "\n",
    "        print(\"timeout\")\n",
    "\n",
    "    parsed = BeautifulSoup(driver.page_source)\n",
    "\n",
    "    pagination = parsed.find(\"div\", attrs={\"class\": \"pagination\"})\n",
    "\n",
    "    total_pages = int(pagination.find_all(\"a\")[-2][\"data-number\"])\n",
    "\n",
    "    games = parsed.find_all(\"div\", attrs={\"class\" : \"eventRow\"})\n",
    "\n",
    "    total_game_urls.extend([x.find(\"a\", attrs={\"href\": re.compile(url_shortened)})[\"href\"] for x in games][1:])\n",
    "\n",
    "    driver.execute_script(\"window.scrollTo(0, document.body.scrollHeight);\")\n",
    "\n",
    "    time.sleep(2)\n",
    "\n",
    "    page_number = 0\n",
    "\n",
    "    while page_number < total_pages:\n",
    "        wait = WebDriverWait(driver, 10)\n",
    "        link = wait.until(EC.element_to_be_clickable((By.LINK_TEXT, \"Next\")))\n",
    "\n",
    "        assert link.is_displayed()\n",
    "\n",
    "        link.click()\n",
    "\n",
    "        WebDriverWait(driver, 10).until(\n",
    "            lambda driver: driver.execute_script(\"return document.readyState\") == \"complete\"\n",
    "        )\n",
    "\n",
    "        time.sleep(2)\n",
    "\n",
    "        parsed = BeautifulSoup(driver.page_source)\n",
    "\n",
    "        games = parsed.find_all(\"div\", attrs={\"class\" : \"eventRow\"})\n",
    "\n",
    "        total_game_urls.extend([x.find(\"a\", attrs={\"href\": re.compile(url_shortened)})[\"href\"] for x in games][1:])\n",
    "\n",
    "        page_number = int(driver.current_url.split(\"/\")[-2])"
   ]
  },
  {
   "cell_type": "code",
   "execution_count": 11,
   "metadata": {},
   "outputs": [],
   "source": [
    "with open(\"total_game_urls\", \"w\") as f:\n",
    "    f.writelines(\"\\n\".join(list(set(total_game_urls))))\n",
    "\n"
   ]
  },
  {
   "cell_type": "code",
   "execution_count": 1,
   "metadata": {},
   "outputs": [],
   "source": [
    "from selenium import webdriver\n",
    "from selenium.webdriver.common.by import By\n",
    "from bs4 import BeautifulSoup\n",
    "\n",
    "from selenium.webdriver.support.ui import WebDriverWait\n",
    "from selenium.webdriver.support import expected_conditions as EC\n",
    "\n",
    "import time\n",
    "\n",
    "import re\n",
    "\n",
    "import ndjson\n",
    "\n",
    "from tqdm import tqdm\n",
    "\n",
    "from datetime import datetime"
   ]
  },
  {
   "cell_type": "code",
   "execution_count": 2,
   "metadata": {},
   "outputs": [],
   "source": [
    "with open(\"total_game_urls\", \"r\") as f:\n",
    "    scraped_urls = [x.strip() for x in f.readlines()]"
   ]
  },
  {
   "cell_type": "code",
   "execution_count": 3,
   "metadata": {},
   "outputs": [
    {
     "name": "stderr",
     "output_type": "stream",
     "text": [
      "100%|██████████| 5928/5928 [2:43:20<00:00,  1.65s/it]  \n"
     ]
    }
   ],
   "source": [
    "driver = webdriver.Firefox()\n",
    "\n",
    "# odds_total = []\n",
    "\n",
    "with open(\"data/odds/odds4.ndjson\", \"w\") as f:\n",
    "\n",
    "    writer = ndjson.writer(f, ensure_ascii=False)\n",
    "\n",
    "    for scraped_url in tqdm(scraped_urls[7471+854+3299:]):\n",
    "        driver.get(\"https://www.oddsportal.com\" + scraped_url)\n",
    "\n",
    "        WebDriverWait(driver, 10).until(\n",
    "            lambda driver: driver.execute_script(\"return document.readyState\") == \"complete\"\n",
    "        )\n",
    "\n",
    "        parsed = BeautifulSoup(driver.page_source)\n",
    "\n",
    "        odds_data = [[y.text for y in x.parent.find_all(\"p\")] for x in parsed.find_all(\"div\", attrs={\"provider-name\":'0'})]\n",
    "\n",
    "        date = parsed.find(\"div\", attrs={\"class\": \"bg-event-start-time\"}).parent.text\n",
    "\n",
    "        # date_parsed = datetime.strptime(date, '%A,%d %b %Y,%H:%M')\n",
    "\n",
    "        team1, team2 = [x.text for x in parsed.find_all(\"span\", attrs={\"class\": \"truncate\"})]\n",
    "\n",
    "        team1_score, team2_score = [x.text for x in parsed.find_all(\"div\", attrs={\"class\": re.compile(\"text-gray-dark flex\")})[:2]]\n",
    "\n",
    "        data = {\n",
    "            \"Home\" : team1,\n",
    "            \"Away\" : team2,\n",
    "            \"Home Score\" : team1_score,\n",
    "            \"Away Score\" : team2_score,\n",
    "            \"Date\": date,\n",
    "            \"Bookmakers\" : [x[0] for x in odds_data],\n",
    "            \"Home Odds\" : [x[1] for x in odds_data],\n",
    "            \"Away Odds\" : [x[2] for x in odds_data],\n",
    "        }\n",
    "\n",
    "        writer.writerow(data)"
   ]
  }
 ],
 "metadata": {
  "kernelspec": {
   "display_name": "generation",
   "language": "python",
   "name": "python3"
  },
  "language_info": {
   "codemirror_mode": {
    "name": "ipython",
    "version": 3
   },
   "file_extension": ".py",
   "mimetype": "text/x-python",
   "name": "python",
   "nbconvert_exporter": "python",
   "pygments_lexer": "ipython3",
   "version": "3.10.16"
  }
 },
 "nbformat": 4,
 "nbformat_minor": 2
}
