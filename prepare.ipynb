{
 "cells": [
  {
   "cell_type": "code",
   "execution_count": 68,
   "metadata": {},
   "outputs": [],
   "source": [
    "import pandas as pd"
   ]
  },
  {
   "cell_type": "code",
   "execution_count": 69,
   "metadata": {},
   "outputs": [],
   "source": [
    "df = pd.read_csv(\"final_data/final_dataset.csv\", index_col=0)\n",
    "df = df.sort_values(\"date\")\n",
    "df = df.reset_index(drop=True)\n",
    "del df[\"home\"]\n",
    "del df[\"mp.1\"]\n",
    "del df[\"mp_opp.1\"]\n",
    "del df[\"index_opp\"]\n",
    "del df[\"home_opp\"]\n"
   ]
  },
  {
   "cell_type": "code",
   "execution_count": 70,
   "metadata": {},
   "outputs": [],
   "source": [
    "df_bet = pd.concat([df[\"team\"], df[\"team_opp\"], df[\"season\"], df[\"date\"], df[\"HomeML\"], df[\"AwayML\"]], axis=1)"
   ]
  },
  {
   "cell_type": "code",
   "execution_count": 71,
   "metadata": {},
   "outputs": [],
   "source": [
    "del df[\"AwayTeam\"]\n",
    "del df[\"HomeSpread_AtOpen\"]\n",
    "del df[\"HomeSpread_AtClose\"]\n",
    "del df[\"Over_AtOpen\"]\n",
    "del df[\"Over_AtClose\"]\n",
    "del df[\"HomeML\"]\n",
    "del df[\"AwayML\"]\n",
    "del df[\"2H_HomeSpread\"]\n",
    "del df[\"2H_Over\"]"
   ]
  },
  {
   "cell_type": "code",
   "execution_count": 72,
   "metadata": {},
   "outputs": [],
   "source": [
    "nulls = pd.isnull(df).sum()\n",
    "nulls = nulls[nulls > 0]\n",
    "valid_columns = df.columns[~df.columns.isin(nulls.index)]\n",
    "valid_columns\n",
    "df = df[valid_columns].copy()\n",
    "df[\"won\"] = df[\"won\"].astype(int, errors=\"ignore\")"
   ]
  },
  {
   "cell_type": "code",
   "execution_count": 73,
   "metadata": {},
   "outputs": [
    {
     "data": {
      "text/html": [
       "<div>\n",
       "<style scoped>\n",
       "    .dataframe tbody tr th:only-of-type {\n",
       "        vertical-align: middle;\n",
       "    }\n",
       "\n",
       "    .dataframe tbody tr th {\n",
       "        vertical-align: top;\n",
       "    }\n",
       "\n",
       "    .dataframe thead th {\n",
       "        text-align: right;\n",
       "    }\n",
       "</style>\n",
       "<table border=\"1\" class=\"dataframe\">\n",
       "  <thead>\n",
       "    <tr style=\"text-align: right;\">\n",
       "      <th></th>\n",
       "      <th>mp</th>\n",
       "      <th>fg</th>\n",
       "      <th>fga</th>\n",
       "      <th>fg%</th>\n",
       "      <th>3p</th>\n",
       "      <th>3pa</th>\n",
       "      <th>3p%</th>\n",
       "      <th>ft</th>\n",
       "      <th>fta</th>\n",
       "      <th>ft%</th>\n",
       "      <th>...</th>\n",
       "      <th>tov%_max_opp</th>\n",
       "      <th>usg%_max_opp</th>\n",
       "      <th>ortg_max_opp</th>\n",
       "      <th>drtg_max_opp</th>\n",
       "      <th>team_opp</th>\n",
       "      <th>total_opp</th>\n",
       "      <th>home_opp</th>\n",
       "      <th>season</th>\n",
       "      <th>date</th>\n",
       "      <th>won</th>\n",
       "    </tr>\n",
       "  </thead>\n",
       "  <tbody>\n",
       "  </tbody>\n",
       "</table>\n",
       "<p>0 rows × 140 columns</p>\n",
       "</div>"
      ],
      "text/plain": [
       "Empty DataFrame\n",
       "Columns: [mp, fg, fga, fg%, 3p, 3pa, 3p%, ft, fta, ft%, orb, drb, trb, ast, stl, blk, tov, pf, pts, ts%, efg%, 3par, ftr, orb%, drb%, trb%, ast%, stl%, blk%, tov%, usg%, ortg, drtg, fg_max, fga_max, fg%_max, 3p_max, 3pa_max, 3p%_max, ft_max, fta_max, ft%_max, orb_max, drb_max, trb_max, ast_max, stl_max, blk_max, tov_max, pf_max, pts_max, +/-_max, ts%_max, efg%_max, 3par_max, ftr_max, orb%_max, drb%_max, trb%_max, ast%_max, stl%_max, blk%_max, tov%_max, usg%_max, ortg_max, drtg_max, team, total, mp_opp, fg_opp, fga_opp, fg%_opp, 3p_opp, 3pa_opp, 3p%_opp, ft_opp, fta_opp, ft%_opp, orb_opp, drb_opp, trb_opp, ast_opp, stl_opp, blk_opp, tov_opp, pf_opp, pts_opp, ts%_opp, efg%_opp, 3par_opp, ftr_opp, orb%_opp, drb%_opp, trb%_opp, ast%_opp, stl%_opp, blk%_opp, tov%_opp, usg%_opp, ortg_opp, ...]\n",
       "Index: []\n",
       "\n",
       "[0 rows x 140 columns]"
      ]
     },
     "execution_count": 73,
     "metadata": {},
     "output_type": "execute_result"
    }
   ],
   "source": [
    "df_avg = pd.DataFrame(columns=df.keys())\n",
    "df_avg"
   ]
  },
  {
   "cell_type": "code",
   "execution_count": null,
   "metadata": {},
   "outputs": [],
   "source": [
    "teams_list = df[\"team\"].unique()\n",
    "# store column keys from mp to but not including team in 1 list, and mp_opp to but not including team_opp in another list\n",
    "# keep numnerators and denominonators in a map for each team, add 1 extra value spot in the numerator list for winrate\n",
    "# the target column we will add to the new df is whether or not the home team won\n",
    "'''\n",
    "def get_season_avg(data):\n",
    "    teams_num\n",
    "'''"
   ]
  }
 ],
 "metadata": {
  "kernelspec": {
   "display_name": "Python 3",
   "language": "python",
   "name": "python3"
  },
  "language_info": {
   "codemirror_mode": {
    "name": "ipython",
    "version": 3
   },
   "file_extension": ".py",
   "mimetype": "text/x-python",
   "name": "python",
   "nbconvert_exporter": "python",
   "pygments_lexer": "ipython3",
   "version": "3.11.9"
  }
 },
 "nbformat": 4,
 "nbformat_minor": 2
}
