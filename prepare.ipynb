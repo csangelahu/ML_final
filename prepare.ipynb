{
 "cells": [
  {
   "cell_type": "code",
   "execution_count": 300,
   "metadata": {},
   "outputs": [],
   "source": [
    "import pandas as pd"
   ]
  },
  {
   "cell_type": "code",
   "execution_count": 301,
   "metadata": {},
   "outputs": [],
   "source": [
    "df = pd.read_csv(\"final_data/final_dataset.csv\", index_col=0)\n",
    "df = df.sort_values(\"date\")\n",
    "df = df.reset_index(drop=True)\n",
    "del df[\"home\"]\n",
    "del df[\"mp.1\"]\n",
    "del df[\"mp_opp.1\"]\n",
    "del df[\"index_opp\"]\n",
    "del df[\"home_opp\"]\n"
   ]
  },
  {
   "cell_type": "code",
   "execution_count": 302,
   "metadata": {},
   "outputs": [],
   "source": [
    "df_bet = pd.concat([df[\"team\"], df[\"team_opp\"], df[\"season\"], df[\"date\"], df[\"HomeML\"], df[\"AwayML\"]], axis=1)"
   ]
  },
  {
   "cell_type": "code",
   "execution_count": 303,
   "metadata": {},
   "outputs": [],
   "source": [
    "del df[\"AwayTeam\"]\n",
    "del df[\"HomeSpread_AtOpen\"]\n",
    "del df[\"HomeSpread_AtClose\"]\n",
    "del df[\"Over_AtOpen\"]\n",
    "del df[\"Over_AtClose\"]\n",
    "del df[\"HomeML\"]\n",
    "del df[\"AwayML\"]\n",
    "del df[\"2H_HomeSpread\"]\n",
    "del df[\"2H_Over\"]"
   ]
  },
  {
   "cell_type": "code",
   "execution_count": 304,
   "metadata": {},
   "outputs": [],
   "source": [
    "nulls = pd.isnull(df).sum()\n",
    "nulls = nulls[nulls > 0]\n",
    "valid_columns = df.columns[~df.columns.isin(nulls.index)]\n",
    "valid_columns\n",
    "df = df[valid_columns].copy()\n",
    "df[\"won\"] = df[\"won\"].astype(int, errors=\"ignore\")"
   ]
  },
  {
   "cell_type": "code",
   "execution_count": 305,
   "metadata": {},
   "outputs": [],
   "source": [
    "home_stats_list = []\n",
    "away_stats_list = []\n",
    "start = False\n",
    "for k in df.keys():\n",
    "    if k == \"team\": break\n",
    "    if k == \"mp\":\n",
    "        start = True\n",
    "    if start:\n",
    "        home_stats_list.append(k)\n",
    "start = False\n",
    "for k in df.keys():\n",
    "    if k == \"team_opp\": break\n",
    "    if k == \"mp_opp\":\n",
    "        start = True\n",
    "    if start:\n",
    "        away_stats_list.append(k)\n",
    "home_stats_list.append(\"total\")\n",
    "away_stats_list.append(\"total_opp\")\n",
    "home_stats_list.append(\"won\")\n",
    "away_stats_list.append(\"won_opp\")\n",
    "\n",
    "new_keys = [\"team\", \"team_opp\", \"season\", \"date\"] + home_stats_list + away_stats_list + [\"target\"]\n"
   ]
  },
  {
   "cell_type": "code",
   "execution_count": 306,
   "metadata": {},
   "outputs": [],
   "source": [
    "def get_season_avg(data: pd.DataFrame):\n",
    "    teams_list = data[\"team\"].unique()\n",
    "    df_season = pd.DataFrame(columns=new_keys)\n",
    "    teams_num = {k: [0] * len(home_stats_list) for k in teams_list}\n",
    "    teams_denom = {k: 0 for k in teams_list}\n",
    "\n",
    "    for i in data.index:\n",
    "        team1 = data.loc[i, \"team\"]\n",
    "        team2 = data.loc[i, \"team_opp\"]\n",
    "        new_row = [team1, team2, data.loc[i, \"season\"], data.loc[i, \"date\"]]\n",
    "\n",
    "        temp1 = [num / teams_denom[team1] if teams_denom[team1] > 0 else float('nan') for num in teams_num[team1]]\n",
    "        temp2 = [num / teams_denom[team2] if teams_denom[team2] > 0 else float('nan') for num in teams_num[team2]]\n",
    "\n",
    "        new_row.extend(temp1)\n",
    "        new_row.extend(temp2)\n",
    "        new_row.append(data.loc[i, \"won\"])\n",
    "\n",
    "        for idx, stat in enumerate(home_stats_list):\n",
    "            teams_num[team1][idx] += data.loc[i, stat]\n",
    "        for idx, stat in enumerate(away_stats_list):\n",
    "            if stat == \"won_opp\":\n",
    "                teams_num[team2][idx] += (data.loc[i, \"won\"] + 1) % 2\n",
    "            else:\n",
    "                teams_num[team2][idx] += data.loc[i, stat]\n",
    "\n",
    "        teams_denom[team1] += 1\n",
    "        teams_denom[team2] += 1\n",
    "\n",
    "        # Append to dataframe\n",
    "        df_season.loc[len(df_season)] = new_row\n",
    "\n",
    "    return df_season\n",
    "\n",
    "\n"
   ]
  },
  {
   "cell_type": "code",
   "execution_count": 307,
   "metadata": {},
   "outputs": [
    {
     "name": "stderr",
     "output_type": "stream",
     "text": [
      "C:\\Users\\alanh\\AppData\\Local\\Temp\\ipykernel_18172\\1626689790.py:5: FutureWarning: The behavior of DataFrame concatenation with empty or all-NA entries is deprecated. In a future version, this will no longer exclude empty or all-NA columns when determining the result dtypes. To retain the old behavior, exclude the relevant entries before the concat operation.\n",
      "  df_avg = pd.concat([df_avg, temp], ignore_index=True)\n"
     ]
    }
   ],
   "source": [
    "df_avg = pd.DataFrame(columns=new_keys)\n",
    "seasons_list = df[\"season\"].unique()\n",
    "for s in seasons_list:\n",
    "    temp = get_season_avg(df[df[\"season\"] == s])\n",
    "    df_avg = pd.concat([df_avg, temp], ignore_index=True)\n",
    "\n",
    "\n",
    "df_avg.to_csv(\"final_data/averages.csv\")\n",
    "df_bet.to_csv(\"final_data/betting.csv\")"
   ]
  }
 ],
 "metadata": {
  "kernelspec": {
   "display_name": "Python 3",
   "language": "python",
   "name": "python3"
  },
  "language_info": {
   "codemirror_mode": {
    "name": "ipython",
    "version": 3
   },
   "file_extension": ".py",
   "mimetype": "text/x-python",
   "name": "python",
   "nbconvert_exporter": "python",
   "pygments_lexer": "ipython3",
   "version": "3.11.9"
  }
 },
 "nbformat": 4,
 "nbformat_minor": 2
}
