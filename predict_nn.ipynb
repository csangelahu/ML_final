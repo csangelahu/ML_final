{
 "cells": [
  {
   "cell_type": "code",
   "execution_count": 10,
   "metadata": {},
   "outputs": [],
   "source": [
    "import pandas as pd \n",
    "\n",
    "from sklearn.model_selection import TimeSeriesSplit\n",
    "from sklearn.feature_selection import SequentialFeatureSelector\n",
    "from sklearn.preprocessing import MinMaxScaler\n",
    "from sklearn.metrics import accuracy_score\n",
    "\n",
    "\n",
    "from sklearn.linear_model import LogisticRegression\n",
    "from sklearn.svm import SVC\n",
    "from sklearn.neural_network import MLPClassifier\n",
    "from sklearn.tree import DecisionTreeClassifier"
   ]
  },
  {
   "cell_type": "code",
   "execution_count": 11,
   "metadata": {},
   "outputs": [],
   "source": [
    "data_df = pd.read_csv(\"final_data/averages.csv\", index_col=0)\n",
    "\n",
    "data_df = data_df.dropna()\n",
    "\n",
    "betting = pd.read_csv(\"final_data/betting.csv\")"
   ]
  },
  {
   "cell_type": "code",
   "execution_count": 12,
   "metadata": {},
   "outputs": [],
   "source": [
    "removed_columns = [\"season\", \"date\", \"won\", \"target\", \"team\", \"team_opp\"]\n",
    "selected_columns = data_df.columns[~data_df.columns.isin(removed_columns)]\n",
    "\n",
    "\n",
    "scaler = MinMaxScaler()\n",
    "data_df[selected_columns] = scaler.fit_transform(data_df[selected_columns])"
   ]
  },
  {
   "cell_type": "code",
   "execution_count": 13,
   "metadata": {},
   "outputs": [],
   "source": [
    "data_df_train_val = data_df[data_df.season != 2022]\n",
    "\n",
    "target_train_val = data_df.target\n",
    "\n",
    "data_df_test = data_df[data_df.season == 2022]\n",
    "\n",
    "target_test = data_df_test.target\n",
    "\n",
    "betting_test = betting[betting.season == 2022]"
   ]
  },
  {
   "cell_type": "code",
   "execution_count": 14,
   "metadata": {},
   "outputs": [],
   "source": [
    "model = MLPClassifier()"
   ]
  },
  {
   "cell_type": "code",
   "execution_count": 15,
   "metadata": {},
   "outputs": [],
   "source": [
    "split = TimeSeriesSplit(n_splits=6)\n",
    "\n",
    "sfs = SequentialFeatureSelector(model, \n",
    "                                n_features_to_select=30, \n",
    "                                direction=\"forward\",\n",
    "                                cv=split,\n",
    "                                n_jobs=1,\n",
    "                                scoring='accuracy'\n",
    "                               )"
   ]
  },
  {
   "cell_type": "code",
   "execution_count": null,
   "metadata": {},
   "outputs": [],
   "source": [
    "sfs.fit(data_df_train_val[selected_columns], data_df_train_val[\"target\"])"
   ]
  },
  {
   "cell_type": "code",
   "execution_count": 17,
   "metadata": {},
   "outputs": [],
   "source": [
    "predictors = list(selected_columns[sfs.get_support()])"
   ]
  },
  {
   "cell_type": "code",
   "execution_count": 28,
   "metadata": {},
   "outputs": [
    {
     "data": {
      "text/plain": [
       "['fg%',\n",
       " '3p%',\n",
       " 'stl',\n",
       " 'pts',\n",
       " 'trb%',\n",
       " 'blk%',\n",
       " 'tov%',\n",
       " 'usg%',\n",
       " 'drtg',\n",
       " '3p_max',\n",
       " 'fta_max',\n",
       " 'ft%_max',\n",
       " 'stl_max',\n",
       " 'blk_max',\n",
       " 'pts_max',\n",
       " '+/-_max',\n",
       " 'drtg_max',\n",
       " 'mp_opp',\n",
       " 'fg%_opp',\n",
       " '3pa_opp',\n",
       " 'blk_opp',\n",
       " 'blk%_opp',\n",
       " 'tov%_opp',\n",
       " 'ortg_opp',\n",
       " '3p_max_opp',\n",
       " '3pa_max_opp',\n",
       " 'trb_max_opp',\n",
       " 'blk_max_opp',\n",
       " '+/-_max_opp',\n",
       " 'ortg_max_opp']"
      ]
     },
     "execution_count": 28,
     "metadata": {},
     "output_type": "execute_result"
    }
   ],
   "source": [
    "predictors"
   ]
  },
  {
   "cell_type": "code",
   "execution_count": null,
   "metadata": {},
   "outputs": [],
   "source": [
    "from sklearn.model_selection import GridSearchCV\n",
    "\n",
    "param_grid = {\n",
    "    'hidden_layer_sizes': [(50,), (100,), (50, 50), (100, 100)],\n",
    "    'activation': ['relu', 'tanh', 'logistic'],\n",
    "    'solver': ['adam', 'sgd'],\n",
    "    'alpha': [0.0001, 0.001, 0.01],\n",
    "    'learning_rate': ['constant', 'adaptive'],\n",
    "}\n",
    "\n",
    "grid_search = GridSearchCV(estimator=model, param_grid=param_grid)\n",
    "\n",
    "grid_search.fit(data_df_train_val[predictors], data_df_train_val[\"target\"])\n",
    "\n",
    "model_fitted = grid_search.best_estimator_\n"
   ]
  },
  {
   "cell_type": "code",
   "execution_count": 29,
   "metadata": {},
   "outputs": [
    {
     "name": "stdout",
     "output_type": "stream",
     "text": [
      "{'activation': 'tanh', 'alpha': 0.01, 'hidden_layer_sizes': (50, 50), 'learning_rate': 'constant', 'solver': 'adam'}\n"
     ]
    }
   ],
   "source": [
    "print(grid_search.best_params_)"
   ]
  },
  {
   "cell_type": "code",
   "execution_count": null,
   "metadata": {},
   "outputs": [],
   "source": [
    "all_results = grid_search.cv_results_\n",
    "\n",
    "for i in range(len(all_results['params'])):\n",
    "    print(f\"Parameters: {all_results['params'][i]}\")\n",
    "    print(f\"Mean Test Score: {all_results['mean_test_score'][i]:.2f}\")"
   ]
  },
  {
   "cell_type": "code",
   "execution_count": 20,
   "metadata": {},
   "outputs": [
    {
     "name": "stdout",
     "output_type": "stream",
     "text": [
      "Final Test Accuracy on 2022 season: 0.61\n"
     ]
    }
   ],
   "source": [
    "# Evaluate on the test set\n",
    "test_predictions = model_fitted.predict(data_df_test[predictors])\n",
    "test_accuracy = accuracy_score(target_test, test_predictions)\n",
    "\n",
    "print(f\"Final Test Accuracy on 2022 season: {test_accuracy:.2f}\")"
   ]
  },
  {
   "cell_type": "code",
   "execution_count": 21,
   "metadata": {},
   "outputs": [],
   "source": [
    "# model_fitted = model.fit(data_df_train_val[predictors], data_df_train_val[\"target\"])"
   ]
  },
  {
   "cell_type": "code",
   "execution_count": 22,
   "metadata": {},
   "outputs": [],
   "source": [
    "def moneyline_to_decimal(moneyline):\n",
    "    if moneyline > 0:\n",
    "        return (moneyline / 100) + 1\n",
    "    else:\n",
    "        return (100 / abs(moneyline)) + 1"
   ]
  },
  {
   "cell_type": "code",
   "execution_count": 23,
   "metadata": {},
   "outputs": [],
   "source": [
    "def calculate_return(moneyline_odds, bet_amount):\n",
    "    if moneyline_odds > 0:\n",
    "        return bet_amount * (moneyline_odds / 100) + bet_amount\n",
    "    else:\n",
    "        return bet_amount * (100 / abs(moneyline_odds)) + bet_amount"
   ]
  },
  {
   "cell_type": "code",
   "execution_count": 24,
   "metadata": {},
   "outputs": [],
   "source": [
    "def backtest(data, betting, target, model, predictors):\n",
    "\n",
    "    principal = 1000 \n",
    "\n",
    "    principal_over_time = [principal]\n",
    "\n",
    "    for (i,data_row),(j,betting_row), (k, target) in zip(data[predictors].iterrows(), betting.iterrows(), target.items()):\n",
    "\n",
    "        home_decimal_odds = moneyline_to_decimal(betting_row[\"HomeML\"])\n",
    "\n",
    "        away_decimal_odds = moneyline_to_decimal(betting_row[\"AwayML\"])\n",
    "\n",
    "        prediction_row = pd.DataFrame(data_row).T\n",
    "    \n",
    "        home_or_away = model.predict(prediction_row)\n",
    "\n",
    "        away_prob,home_prob = model.predict_proba(prediction_row)[0]\n",
    "\n",
    "        if home_or_away == 1:\n",
    "            bet = principal*(home_prob - away_prob/home_decimal_odds)\n",
    "\n",
    "            odds = home_decimal_odds\n",
    "\n",
    "            predicted_prob = home_prob\n",
    "        else:\n",
    "            bet = principal*(away_prob - home_prob/away_decimal_odds)\n",
    "\n",
    "            odds = away_decimal_odds\n",
    "\n",
    "            predicted_prob = away_prob\n",
    "        \n",
    "        principal -= bet\n",
    "\n",
    "        if home_or_away == target:\n",
    "            principal += calculate_return(odds, bet)\n",
    "        \n",
    "        principal_over_time.append(principal)\n",
    "    \n",
    "    return principal_over_time"
   ]
  },
  {
   "cell_type": "code",
   "execution_count": 25,
   "metadata": {},
   "outputs": [],
   "source": [
    "principal_over_time = backtest(data_df_test, betting_test, target_test, model_fitted, predictors)"
   ]
  },
  {
   "cell_type": "code",
   "execution_count": 35,
   "metadata": {},
   "outputs": [],
   "source": [
    "import seaborn as sns\n",
    "import matplotlib.pyplot as plt"
   ]
  },
  {
   "cell_type": "code",
   "execution_count": 36,
   "metadata": {},
   "outputs": [
    {
     "data": {
      "text/plain": [
       "Text(0.5, 1.0, 'Principle Over Time')"
      ]
     },
     "execution_count": 36,
     "metadata": {},
     "output_type": "execute_result"
    },
    {
     "data": {
      "image/png": "[encoded data removed]",
      "text/plain": [
       "<Figure size 640x480 with 1 Axes>"
      ]
     },
     "metadata": {},
     "output_type": "display_data"
    }
   ],
   "source": [
    "sns.lineplot(x=range(50), y=principal_over_time[0:50])\n",
    "plt.xlabel('Games')\n",
    "plt.ylabel('Principle ($)')\n",
    "plt.title('Principle Over Time')"
   ]
  },
  {
   "cell_type": "code",
   "execution_count": null,
   "metadata": {},
   "outputs": [],
   "source": []
  }
 ],
 "metadata": {
  "kernelspec": {
   "display_name": "mlfinal",
   "language": "python",
   "name": "python3"
  },
  "language_info": {
   "codemirror_mode": {
    "name": "ipython",
    "version": 3
   },
   "file_extension": ".py",
   "mimetype": "text/x-python",
   "name": "python",
   "nbconvert_exporter": "python",
   "pygments_lexer": "ipython3",
   "version": "3.10.16"
  }
 },
 "nbformat": 4,
 "nbformat_minor": 2
}
